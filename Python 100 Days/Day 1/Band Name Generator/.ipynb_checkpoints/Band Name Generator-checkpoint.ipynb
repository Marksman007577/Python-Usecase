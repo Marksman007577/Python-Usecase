{
 "cells": [
  {
   "cell_type": "code",
   "execution_count": 1,
   "id": "ce3ba254",
   "metadata": {},
   "outputs": [
    {
     "name": "stdout",
     "output_type": "stream",
     "text": [
      "Welcome to the Band Name Generator\n",
      "What is the name of the city you were born in?:apollo\n",
      "What is your favorite pet name?:creed\n",
      "Your band name could be Apollo Creed.\n"
     ]
    }
   ],
   "source": [
    "#Band Name Generator\n",
    "print(\"Welcome to the Band Name Generator\")\n",
    "\n",
    "birthCity = input(\"What is the name of the city you were born in?:\").title()\n",
    "petName = input(\"What is your favorite pet name?:\").title()\n",
    "print(f\"Your band name could be {birthCity} {petName}.\")"
   ]
  }
 ],
 "metadata": {
  "kernelspec": {
   "display_name": "Python 3 (ipykernel)",
   "language": "python",
   "name": "python3"
  },
  "language_info": {
   "codemirror_mode": {
    "name": "ipython",
    "version": 3
   },
   "file_extension": ".py",
   "mimetype": "text/x-python",
   "name": "python",
   "nbconvert_exporter": "python",
   "pygments_lexer": "ipython3",
   "version": "3.9.15"
  }
 },
 "nbformat": 4,
 "nbformat_minor": 5
}
