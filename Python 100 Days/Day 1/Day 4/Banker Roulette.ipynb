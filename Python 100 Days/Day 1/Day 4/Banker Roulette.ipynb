{
 "cells": [
  {
   "cell_type": "code",
   "execution_count": 52,
   "id": "6d1756ea",
   "metadata": {},
   "outputs": [
    {
     "name": "stdout",
     "output_type": "stream",
     "text": [
      "Banker Roulette\n",
      "Enter everyone's name:james jude kelly kesiena\n",
      "Jude is going to pay for the meal today.\n"
     ]
    }
   ],
   "source": [
    "import random\n",
    "\n",
    "print(\"Banker Roulette\")\n",
    "allNames = input(\"Enter everyone's name:\").title().split()\n",
    "totalNames = len(allNames)\n",
    "numberName = random.randint(0, totalNames-1)\n",
    "payersName = allNames[numberName]\n",
    "print(f\"{payersName} is going to pay for the meal today.\")"
   ]
  }
 ],
 "metadata": {
  "kernelspec": {
   "display_name": "Python 3 (ipykernel)",
   "language": "python",
   "name": "python3"
  },
  "language_info": {
   "codemirror_mode": {
    "name": "ipython",
    "version": 3
   },
   "file_extension": ".py",
   "mimetype": "text/x-python",
   "name": "python",
   "nbconvert_exporter": "python",
   "pygments_lexer": "ipython3",
   "version": "3.9.15"
  }
 },
 "nbformat": 4,
 "nbformat_minor": 5
}
