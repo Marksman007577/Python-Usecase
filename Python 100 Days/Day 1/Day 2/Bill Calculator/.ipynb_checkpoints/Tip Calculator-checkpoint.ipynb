{
 "cells": [
  {
   "cell_type": "code",
   "execution_count": 1,
   "id": "f1c28cd5",
   "metadata": {},
   "outputs": [],
   "source": [
    "import sys\n",
    "import random"
   ]
  },
  {
   "cell_type": "code",
   "execution_count": 3,
   "id": "a516ec0a",
   "metadata": {},
   "outputs": [
    {
     "name": "stdout",
     "output_type": "stream",
     "text": [
      "Welcome to the tip calculator\n",
      "What was the total bill?: $124.56\n",
      "What percentage tip would you like to give? 10, 12, or 15%?:12\n",
      "How many people to split the bill?:7\n",
      "Each person should pay:$19.93\n"
     ]
    }
   ],
   "source": [
    "print(\"Welcome to the tip calculator\")\n",
    "\n",
    "totalBill = float(input(\"What was the total bill?: $\"))\n",
    "tipPercent = int(input(\"What percentage tip would you like to give? 10, 12, or 15%?:\"))\n",
    "numberOfPeople = int(input(\"How many people to split the bill?:\"))\n",
    "\n",
    "tipAmount = (tipPercent/100)*totalBill\n",
    "payableBill = tipAmount + totalBill\n",
    "\n",
    "billPerPerson = round(payableBill/numberOfPeople, 2)\n",
    "\n",
    "print(f\"Each person should pay:${billPerPerson}\")"
   ]
  }
 ],
 "metadata": {
  "kernelspec": {
   "display_name": "Python 3 (ipykernel)",
   "language": "python",
   "name": "python3"
  },
  "language_info": {
   "codemirror_mode": {
    "name": "ipython",
    "version": 3
   },
   "file_extension": ".py",
   "mimetype": "text/x-python",
   "name": "python",
   "nbconvert_exporter": "python",
   "pygments_lexer": "ipython3",
   "version": "3.9.15"
  }
 },
 "nbformat": 4,
 "nbformat_minor": 5
}
