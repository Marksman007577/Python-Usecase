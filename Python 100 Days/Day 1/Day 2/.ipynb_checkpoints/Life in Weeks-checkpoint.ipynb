{
 "cells": [
  {
   "cell_type": "code",
   "execution_count": null,
   "id": "8e87a0bf",
   "metadata": {},
   "outputs": [],
   "source": [
    "import math\n",
    "import sys\n",
    "import random"
   ]
  },
  {
   "cell_type": "code",
   "execution_count": null,
   "id": "471d4dec",
   "metadata": {},
   "outputs": [],
   "source": [
    "currentAge = int(input(\"Enter your age here:\"))\n",
    "lifeExpectancy = 90\n",
    "remainingAgeInDays = (lifeExpectancy - currentAge)*365\n",
    "remainingAgeInWeeks = (lifeExpectancy - currentAge)*52\n",
    "remainingAgeInMonths = (lifeExpectancy - currentAge)*12\n",
    "\n",
    "print(f\"You have {remainingAgeInDays} days, {remainingAgeInWeeks} weeks, and {remainingAgeInMonths} months left till you get to 90 years old\")"
   ]
  },
  {
   "cell_type": "code",
   "execution_count": null,
   "id": "01a2bedf",
   "metadata": {},
   "outputs": [],
   "source": []
  },
  {
   "cell_type": "code",
   "execution_count": null,
   "id": "64604cf1",
   "metadata": {},
   "outputs": [],
   "source": []
  }
 ],
 "metadata": {
  "kernelspec": {
   "display_name": "Python 3 (ipykernel)",
   "language": "python",
   "name": "python3"
  },
  "language_info": {
   "codemirror_mode": {
    "name": "ipython",
    "version": 3
   },
   "file_extension": ".py",
   "mimetype": "text/x-python",
   "name": "python",
   "nbconvert_exporter": "python",
   "pygments_lexer": "ipython3",
   "version": "3.9.15"
  }
 },
 "nbformat": 4,
 "nbformat_minor": 5
}
