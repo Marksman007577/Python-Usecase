{
 "cells": [
  {
   "cell_type": "code",
   "execution_count": 42,
   "id": "f7767728",
   "metadata": {},
   "outputs": [
    {
     "name": "stdout",
     "output_type": "stream",
     "text": [
      "\n",
      "88\n",
      "                                     \n",
      "88\n",
      "                                     \n",
      "88\n",
      "                                     \n",
      "88  ,adPPYba,  8b       d8  ,adPPYba,\n",
      "  \n",
      "88 a8\"     \"8a `8b     d8' a8P_____88\n",
      " \n",
      "88 8b       d8  `8b   d8'  8PP\"\"\"\"\"\"\"\n",
      "  \n",
      "88 \"8a,   ,a8\"   `8b,d8'   \"8b,   ,aa\n",
      "  \n",
      "88  `\"YbbdP\"'      \"8\"      `\"Ybbd8\"'\n",
      " \n",
      "\n",
      "   \n",
      "Love Score Calculator\n",
      "\n",
      "What is her name?:\n",
      "Birdynumnum\n",
      "What is his name?:bugynumnum\n",
      "Your score is 6, you go together like coke and menthos.\n"
     ]
    }
   ],
   "source": [
    "# Love Score Calculator\n",
    "logo = '''\n",
    "88\\n                                     \n",
    "88\\n                                     \n",
    "88\\n                                     \n",
    "88  ,adPPYba,  8b       d8  ,adPPYba,\\n  \n",
    "88 a8\"     \"8a `8b     d8' a8P_____88\\n \n",
    "88 8b       d8  `8b   d8'  8PP\"\"\"\"\"\"\"\\n  \n",
    "88 \"8a,   ,a8\"   `8b,d8'   \"8b,   ,aa\\n  \n",
    "88  `\"YbbdP\"'      \"8\"      `\"Ybbd8\"'\\n \n",
    "\n",
    "   '''\n",
    "\n",
    "print(logo)\n",
    "print(\"Love Score Calculator\\n\")\n",
    "firstPersonName = input(\"What is her name?:\\n\")\n",
    "secondPersonName = input(\"What is his name?:\")\n",
    "\n",
    "combinedName = (firstPersonName + secondPersonName).lower()\n",
    "\n",
    "totalT = combinedName.count('t')\n",
    "totalR = combinedName.count('r')\n",
    "totalU = combinedName.count('u')\n",
    "totalE = combinedName.count('e')\n",
    "totalL = combinedName.count('l')\n",
    "totalO = combinedName.count('o')\n",
    "totalV = combinedName.count('v')\n",
    "totalE = combinedName.count('e')\n",
    "\n",
    "loveScore = totalT+totalR+totalU+totalE+totalL+totalO+totalV+totalE\n",
    "\n",
    "if (loveScore < 10) or (loveScore > 90):\n",
    "    print(f\"Your score is {loveScore}, you go together like coke and menthos.\")\n",
    "    \n",
    "elif (loveScore >= 40) and (loveScore <= 50):\n",
    "    print(f\"Your score is {loveScore}, you are alright together.\")\n",
    "\n",
    "else:\n",
    "    print(f\"Your score is {loveScore}.\")\n"
   ]
  }
 ],
 "metadata": {
  "kernelspec": {
   "display_name": "Python 3 (ipykernel)",
   "language": "python",
   "name": "python3"
  },
  "language_info": {
   "codemirror_mode": {
    "name": "ipython",
    "version": 3
   },
   "file_extension": ".py",
   "mimetype": "text/x-python",
   "name": "python",
   "nbconvert_exporter": "python",
   "pygments_lexer": "ipython3",
   "version": "3.9.15"
  }
 },
 "nbformat": 4,
 "nbformat_minor": 5
}
