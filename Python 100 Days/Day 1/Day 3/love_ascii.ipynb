{
 "cells": [
  {
   "cell_type": "code",
   "execution_count": 1,
   "id": "6fde5857",
   "metadata": {},
   "outputs": [],
   "source": [
    " logo = '''\n",
    "88                                     \n",
    "88                                     \n",
    "88                                     \n",
    "88  ,adPPYba,  8b       d8  ,adPPYba,  \n",
    "88 a8\"     \"8a `8b     d8' a8P_____88  \n",
    "88 8b       d8  `8b   d8'  8PP\"\"\"\"\"\"\"  \n",
    "88 \"8a,   ,a8\"   `8b,d8'   \"8b,   ,aa  \n",
    "88  `\"YbbdP\"'      \"8\"      `\"Ybbd8\"' \n",
    "    '''"
   ]
  }
 ],
 "metadata": {
  "kernelspec": {
   "display_name": "Python 3 (ipykernel)",
   "language": "python",
   "name": "python3"
  },
  "language_info": {
   "codemirror_mode": {
    "name": "ipython",
    "version": 3
   },
   "file_extension": ".py",
   "mimetype": "text/x-python",
   "name": "python",
   "nbconvert_exporter": "python",
   "pygments_lexer": "ipython3",
   "version": "3.9.15"
  }
 },
 "nbformat": 4,
 "nbformat_minor": 5
}
