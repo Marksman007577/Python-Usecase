{
 "cells": [
  {
   "cell_type": "code",
   "execution_count": 2,
   "id": "7071ed9a",
   "metadata": {},
   "outputs": [
    {
     "name": "stdout",
     "output_type": "stream",
     "text": [
      "Welcome to the Rollercoaster!!!\n",
      "Enter your height in cm:154\n",
      "You can ride the rollercoaster\n"
     ]
    }
   ],
   "source": [
    "# the rollercoaster\n",
    "print(\"Welcome to the Rollercoaster!!!\")\n",
    "height = int(input(\"Enter your height in cm:\"))\n",
    "\n",
    "if height > 120:\n",
    "    print('You can ride the rollercoaster')\n",
    "else:\n",
    "    print(\"You are not within the required height range\\n\")\n",
    "    "
   ]
  },
  {
   "cell_type": "code",
   "execution_count": 4,
   "id": "989f4fc2",
   "metadata": {},
   "outputs": [
    {
     "name": "stdout",
     "output_type": "stream",
     "text": [
      "The Even or Odd number checker\n",
      "What number would you like to check2\n",
      "2 is an even number\n"
     ]
    }
   ],
   "source": [
    "# the odd or even number checker\n",
    "print(\"The Even or Odd number checker\")\n",
    "\n",
    "number = int(input(\"What number would you like to check:\"))\n",
    "\n",
    "if number % 2 == 0:\n",
    "    print(f\"{number} is an even number\")\n",
    "else:\n",
    "    print(f\"{number} is an odd number\")"
   ]
  },
  {
   "cell_type": "code",
   "execution_count": 6,
   "id": "c87d3f1b",
   "metadata": {},
   "outputs": [
    {
     "name": "stdout",
     "output_type": "stream",
     "text": [
      "Welcome to the Rollercoaster!!!\n",
      "Enter your height in cm:156\n",
      "You can ride the rollercoaster\n",
      "Enter your age:14\n",
      "You pay $7.\n"
     ]
    }
   ],
   "source": [
    "# nested if elif and else statement\n",
    "print(\"Welcome to the Rollercoaster!!!\")\n",
    "\n",
    "price1 = 12\n",
    "price2 = 5\n",
    "price3 = 7\n",
    "\n",
    "height = float(input(\"Enter your height in cm:\"))\n",
    "\n",
    "if height >= 120:\n",
    "    print('You can ride the rollercoaster')\n",
    "    age = int(input(\"Enter your age:\"))\n",
    "    if age > 18:\n",
    "        print(f\"You pay ${price1}.\")\n",
    "    elif age < 12:\n",
    "        print(f\"You pay ${price2}.\")\n",
    "    else:\n",
    "        print(f\"You pay ${price3}.\")\n",
    "else:\n",
    "    print(\"You are not within the required height range\\n\")"
   ]
  },
  {
   "cell_type": "code",
   "execution_count": 5,
   "id": "cb1ece17",
   "metadata": {},
   "outputs": [
    {
     "name": "stdout",
     "output_type": "stream",
     "text": [
      "BMI Calculator\n",
      "Enter your height in meters:\n",
      "1.95\n",
      "Enter your weight in kg:\n",
      "95\n",
      "Your BMI score is = 24.98\n",
      "A BMI score of 24.98 means you are Normal weight\n"
     ]
    }
   ],
   "source": [
    "#Revisiting the BMI Calculator\n",
    "import math\n",
    "import sys\n",
    "print(\"BMI Calculator\")\n",
    "\n",
    "height = float(input(\"Enter your height in meters:\\n\"))\n",
    "weight = float(input(\"Enter your weight in kg:\\n\"))\n",
    "\n",
    "BMI = round(weight / height**2, 2)\n",
    "\n",
    "print(f\"Your BMI score is = {BMI}\")\n",
    "\n",
    "if BMI < 18.5:\n",
    "    print(f\"A BMI score of {BMI} means you are Underweight\")\n",
    "elif BMI < 25:\n",
    "    print(f\"A BMI score of {BMI} means you are Normal weight\")\n",
    "elif BMI < 30:\n",
    "    print(f\"A BMI score of {BMI} means you are Overweight\")\n",
    "elif BMI < 35:\n",
    "    print(f\"A BMI score of {BMI} means you are Obese\")\n",
    "else:\n",
    "    print(f\"A BMI score of {BMI} means you are Clinically Obese\")"
   ]
  },
  {
   "cell_type": "code",
   "execution_count": null,
   "id": "5f339a37",
   "metadata": {},
   "outputs": [],
   "source": []
  }
 ],
 "metadata": {
  "kernelspec": {
   "display_name": "Python 3 (ipykernel)",
   "language": "python",
   "name": "python3"
  },
  "language_info": {
   "codemirror_mode": {
    "name": "ipython",
    "version": 3
   },
   "file_extension": ".py",
   "mimetype": "text/x-python",
   "name": "python",
   "nbconvert_exporter": "python",
   "pygments_lexer": "ipython3",
   "version": "3.9.15"
  }
 },
 "nbformat": 4,
 "nbformat_minor": 5
}
