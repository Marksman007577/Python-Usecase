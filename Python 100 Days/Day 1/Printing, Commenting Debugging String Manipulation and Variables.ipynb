{
 "cells": [
  {
   "cell_type": "code",
   "execution_count": 50,
   "id": "9f05da34",
   "metadata": {},
   "outputs": [],
   "source": [
    "import random\n",
    "from math import pi, sqrt"
   ]
  },
  {
   "cell_type": "code",
   "execution_count": 51,
   "id": "c48702d2",
   "metadata": {},
   "outputs": [
    {
     "data": {
      "text/plain": [
       "3.141592653589793"
      ]
     },
     "execution_count": 51,
     "metadata": {},
     "output_type": "execute_result"
    }
   ],
   "source": [
    "pi"
   ]
  },
  {
   "cell_type": "code",
   "execution_count": 52,
   "id": "275a8864",
   "metadata": {},
   "outputs": [
    {
     "data": {
      "text/plain": [
       "5.0"
      ]
     },
     "execution_count": 52,
     "metadata": {},
     "output_type": "execute_result"
    }
   ],
   "source": [
    "sqrt(25)"
   ]
  },
  {
   "cell_type": "code",
   "execution_count": 53,
   "id": "d2b4235d",
   "metadata": {},
   "outputs": [
    {
     "name": "stdout",
     "output_type": "stream",
     "text": [
      "[3, 7, 8, 8, 8]\n"
     ]
    }
   ],
   "source": [
    "my_list = [2,3,4,5,6]\n",
    "\n",
    "y = []\n",
    "for i in range(len(my_list)):\n",
    "    x = i + random.choice(my_list)\n",
    "    y.append(x)\n",
    "\n",
    "print(y)       "
   ]
  },
  {
   "cell_type": "code",
   "execution_count": 54,
   "id": "aff11a22",
   "metadata": {},
   "outputs": [],
   "source": [
    "s = \"spam\""
   ]
  },
  {
   "cell_type": "code",
   "execution_count": 55,
   "id": "0e925ab6",
   "metadata": {},
   "outputs": [
    {
     "data": {
      "text/plain": [
       "4"
      ]
     },
     "execution_count": 55,
     "metadata": {},
     "output_type": "execute_result"
    }
   ],
   "source": [
    "len(s)"
   ]
  },
  {
   "cell_type": "code",
   "execution_count": 59,
   "id": "afb2511f",
   "metadata": {},
   "outputs": [
    {
     "name": "stdout",
     "output_type": "stream",
     "text": [
      "spam\n"
     ]
    }
   ],
   "source": [
    "new_word = ''\n",
    "for i in range(len(s)):\n",
    "    new_word += s[i]\n",
    "    \n",
    "print(new_word)"
   ]
  },
  {
   "cell_type": "code",
   "execution_count": 1,
   "id": "e6ae9edc",
   "metadata": {},
   "outputs": [
    {
     "name": "stdout",
     "output_type": "stream",
     "text": [
      "Hello World!\n"
     ]
    }
   ],
   "source": [
    "print(\"Hello World!\")"
   ]
  },
  {
   "cell_type": "code",
   "execution_count": 2,
   "id": "261436e5",
   "metadata": {},
   "outputs": [
    {
     "name": "stdout",
     "output_type": "stream",
     "text": [
      "What to print\n"
     ]
    }
   ],
   "source": [
    "print(\"What to print\")"
   ]
  },
  {
   "cell_type": "code",
   "execution_count": 5,
   "id": "c008e7a1",
   "metadata": {},
   "outputs": [
    {
     "name": "stdout",
     "output_type": "stream",
     "text": [
      "Day 1 - Python Print Function\n",
      "\n",
      "The function is declared like this:\n",
      "\n",
      "Print('What to print')\n"
     ]
    }
   ],
   "source": [
    "print(\"Day 1 - Python Print Function\\n\")\n",
    "print(\"The function is declared like this:\\n\")\n",
    "print(\"Print(\\'What to print\\')\")"
   ]
  },
  {
   "cell_type": "code",
   "execution_count": 9,
   "id": "93635dde",
   "metadata": {},
   "outputs": [
    {
     "name": "stdout",
     "output_type": "stream",
     "text": [
      "What is your first name:Chibuzor\n",
      "What is your last name:Isiguzor\n"
     ]
    }
   ],
   "source": [
    "f_name = input(\"What is your first name:\")\n",
    "l_name = input(\"What is your last name:\")\n",
    "total_count = len(f_name) + len(l_name)"
   ]
  },
  {
   "cell_type": "code",
   "execution_count": 11,
   "id": "72b1d104",
   "metadata": {},
   "outputs": [
    {
     "name": "stdout",
     "output_type": "stream",
     "text": [
      "Total length of your name is 16\n"
     ]
    }
   ],
   "source": [
    "print(f\"Total length of your name is {total_count}\")"
   ]
  },
  {
   "cell_type": "code",
   "execution_count": 2,
   "id": "0c28d66a",
   "metadata": {},
   "outputs": [
    {
     "name": "stdout",
     "output_type": "stream",
     "text": [
      "Welcome to the Band Name Generator\n",
      "What is the name of the city you were born in?:paris\n",
      "What is your favorite pet name?:doll\n",
      "Your band name could be Paris Doll.\n"
     ]
    }
   ],
   "source": [
    "#Band Name Generator\n",
    "print(\"Welcome to the Band Name Generator\")\n",
    "\n",
    "birthCity = input(\"What is the name of the city you were born in?:\").title()\n",
    "petName = input(\"What is your favorite pet name?:\").title()\n",
    "print(f\"Your band name could be {birthCity} {petName}.\")"
   ]
  },
  {
   "cell_type": "code",
   "execution_count": 7,
   "id": "bf367bfc",
   "metadata": {},
   "outputs": [
    {
     "name": "stdout",
     "output_type": "stream",
     "text": [
      "234\n"
     ]
    }
   ],
   "source": [
    "myNumber = 234\n",
    "myString = str(myNumber)\n",
    "print(myString)"
   ]
  }
 ],
 "metadata": {
  "kernelspec": {
   "display_name": "Python 3 (ipykernel)",
   "language": "python",
   "name": "python3"
  },
  "language_info": {
   "codemirror_mode": {
    "name": "ipython",
    "version": 3
   },
   "file_extension": ".py",
   "mimetype": "text/x-python",
   "name": "python",
   "nbconvert_exporter": "python",
   "pygments_lexer": "ipython3",
   "version": "3.9.15"
  }
 },
 "nbformat": 4,
 "nbformat_minor": 5
}
