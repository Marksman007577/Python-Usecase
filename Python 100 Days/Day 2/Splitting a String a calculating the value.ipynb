{
 "cells": [
  {
   "cell_type": "code",
   "execution_count": 8,
   "id": "0f8c84a6",
   "metadata": {},
   "outputs": [],
   "source": [
    "import sys"
   ]
  },
  {
   "cell_type": "code",
   "execution_count": 9,
   "id": "ef424d9c",
   "metadata": {},
   "outputs": [
    {
     "name": "stdout",
     "output_type": "stream",
     "text": [
      "This program splits a value string and calculates the sum!!!\n",
      "Enter two digit number here:26\n",
      "The sum of the number entered is = 8\n"
     ]
    }
   ],
   "source": [
    "print(\"This program splits a value string and calculates the sum!!!\")\n",
    "\n",
    "value = input(\"Enter two digit number here:\")\n",
    "\n",
    "valOne = int(value[0])\n",
    "valTwo = int(value[1])\n",
    "\n",
    "valSum = valOne + valTwo\n",
    "\n",
    "print(f\"The sum of the number entered is = {valSum}\")"
   ]
  },
  {
   "cell_type": "code",
   "execution_count": 10,
   "id": "1af725aa",
   "metadata": {},
   "outputs": [
    {
     "data": {
      "text/plain": [
       "28"
      ]
     },
     "execution_count": 10,
     "metadata": {},
     "output_type": "execute_result"
    }
   ],
   "source": [
    "sys.getsizeof(valSum)"
   ]
  },
  {
   "cell_type": "code",
   "execution_count": 11,
   "id": "7564cc4b",
   "metadata": {},
   "outputs": [
    {
     "data": {
      "text/plain": [
       "28"
      ]
     },
     "execution_count": 11,
     "metadata": {},
     "output_type": "execute_result"
    }
   ],
   "source": [
    "sys.getsizeof(valOne)"
   ]
  },
  {
   "cell_type": "code",
   "execution_count": 12,
   "id": "1265887a",
   "metadata": {},
   "outputs": [
    {
     "data": {
      "text/plain": [
       "28"
      ]
     },
     "execution_count": 12,
     "metadata": {},
     "output_type": "execute_result"
    }
   ],
   "source": [
    "sys.getsizeof(valTwo)"
   ]
  },
  {
   "cell_type": "code",
   "execution_count": 13,
   "id": "ebe1c206",
   "metadata": {},
   "outputs": [
    {
     "data": {
      "text/plain": [
       "int"
      ]
     },
     "execution_count": 13,
     "metadata": {},
     "output_type": "execute_result"
    }
   ],
   "source": [
    "type(valTwo)"
   ]
  },
  {
   "cell_type": "code",
   "execution_count": 14,
   "id": "50d26bfd",
   "metadata": {},
   "outputs": [
    {
     "data": {
      "text/plain": [
       "int"
      ]
     },
     "execution_count": 14,
     "metadata": {},
     "output_type": "execute_result"
    }
   ],
   "source": [
    "type(valSum)"
   ]
  },
  {
   "cell_type": "code",
   "execution_count": 15,
   "id": "bae2edac",
   "metadata": {},
   "outputs": [
    {
     "data": {
      "text/plain": [
       "str"
      ]
     },
     "execution_count": 15,
     "metadata": {},
     "output_type": "execute_result"
    }
   ],
   "source": [
    "type(value)"
   ]
  }
 ],
 "metadata": {
  "kernelspec": {
   "display_name": "Python 3 (ipykernel)",
   "language": "python",
   "name": "python3"
  },
  "language_info": {
   "codemirror_mode": {
    "name": "ipython",
    "version": 3
   },
   "file_extension": ".py",
   "mimetype": "text/x-python",
   "name": "python",
   "nbconvert_exporter": "python",
   "pygments_lexer": "ipython3",
   "version": "3.9.15"
  }
 },
 "nbformat": 4,
 "nbformat_minor": 5
}
