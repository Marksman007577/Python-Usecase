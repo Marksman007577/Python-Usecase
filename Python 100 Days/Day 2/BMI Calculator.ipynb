{
 "cells": [
  {
   "cell_type": "code",
   "execution_count": 2,
   "id": "2956fdca",
   "metadata": {},
   "outputs": [],
   "source": [
    "import math\n",
    "import sys"
   ]
  },
  {
   "cell_type": "code",
   "execution_count": 5,
   "id": "b4140d54",
   "metadata": {},
   "outputs": [
    {
     "name": "stdout",
     "output_type": "stream",
     "text": [
      "BMI Calculator\n",
      "Enter your height in meters:\n",
      "1.75\n",
      "Enter your weight in kg:\n",
      "80\n",
      "Your BMI score is = 26.12\n"
     ]
    }
   ],
   "source": [
    "print(\"BMI Calculator\")\n",
    "\n",
    "height = float(input(\"Enter your height in meters:\\n\"))\n",
    "weight = float(input(\"Enter your weight in kg:\\n\"))\n",
    "\n",
    "BMI = round(weight / height**2, 2)\n",
    "\n",
    "print(f\"Your BMI score is = {BMI}\")"
   ]
  },
  {
   "cell_type": "code",
   "execution_count": null,
   "id": "9bd45bf2",
   "metadata": {},
   "outputs": [],
   "source": []
  }
 ],
 "metadata": {
  "kernelspec": {
   "display_name": "Python 3 (ipykernel)",
   "language": "python",
   "name": "python3"
  },
  "language_info": {
   "codemirror_mode": {
    "name": "ipython",
    "version": 3
   },
   "file_extension": ".py",
   "mimetype": "text/x-python",
   "name": "python",
   "nbconvert_exporter": "python",
   "pygments_lexer": "ipython3",
   "version": "3.9.15"
  }
 },
 "nbformat": 4,
 "nbformat_minor": 5
}
