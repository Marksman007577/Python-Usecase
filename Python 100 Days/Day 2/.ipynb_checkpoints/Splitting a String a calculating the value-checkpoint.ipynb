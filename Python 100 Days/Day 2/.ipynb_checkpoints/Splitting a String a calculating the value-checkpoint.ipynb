{
 "cells": [
  {
   "cell_type": "code",
   "execution_count": 2,
   "id": "27e78267",
   "metadata": {},
   "outputs": [
    {
     "name": "stdout",
     "output_type": "stream",
     "text": [
      "This program splits a value string and calculates the sum!!!\n",
      "Enter two digit number here:23\n",
      "The sum of the number entered is = 5\n"
     ]
    }
   ],
   "source": [
    "print(\"This program splits a value string and calculates the sum!!!\")\n",
    "\n",
    "value = input(\"Enter two digit number here:\")\n",
    "\n",
    "valOne = int(value[0])\n",
    "valTwo = int(value[1])\n",
    "\n",
    "valSum = valOne + valTwo\n",
    "\n",
    "print(f\"The sum of the number entered is = {valSum}\")"
   ]
  }
 ],
 "metadata": {
  "kernelspec": {
   "display_name": "Python 3 (ipykernel)",
   "language": "python",
   "name": "python3"
  },
  "language_info": {
   "codemirror_mode": {
    "name": "ipython",
    "version": 3
   },
   "file_extension": ".py",
   "mimetype": "text/x-python",
   "name": "python",
   "nbconvert_exporter": "python",
   "pygments_lexer": "ipython3",
   "version": "3.9.15"
  }
 },
 "nbformat": 4,
 "nbformat_minor": 5
}
