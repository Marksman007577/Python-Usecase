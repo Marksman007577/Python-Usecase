{
 "cells": [
  {
   "cell_type": "code",
   "execution_count": 1,
   "id": "8de70e14",
   "metadata": {},
   "outputs": [],
   "source": [
    "import random"
   ]
  },
  {
   "cell_type": "code",
   "execution_count": 8,
   "id": "23217f81",
   "metadata": {},
   "outputs": [],
   "source": [
    "randomInteger = random.randint(1,20)\n",
    "randomFloat = round(random.random(), 3)\n",
    "randomFloat2 = round(random.random()*5, 3)"
   ]
  },
  {
   "cell_type": "code",
   "execution_count": 9,
   "id": "61c9b86d",
   "metadata": {},
   "outputs": [
    {
     "data": {
      "text/plain": [
       "15"
      ]
     },
     "execution_count": 9,
     "metadata": {},
     "output_type": "execute_result"
    }
   ],
   "source": [
    "randomInteger"
   ]
  },
  {
   "cell_type": "code",
   "execution_count": 10,
   "id": "7a963aab",
   "metadata": {},
   "outputs": [
    {
     "data": {
      "text/plain": [
       "0.739"
      ]
     },
     "execution_count": 10,
     "metadata": {},
     "output_type": "execute_result"
    }
   ],
   "source": [
    "randomFloat"
   ]
  },
  {
   "cell_type": "code",
   "execution_count": 11,
   "id": "5c51131f",
   "metadata": {},
   "outputs": [
    {
     "data": {
      "text/plain": [
       "1.528"
      ]
     },
     "execution_count": 11,
     "metadata": {},
     "output_type": "execute_result"
    }
   ],
   "source": [
    "randomFloat2"
   ]
  },
  {
   "cell_type": "markdown",
   "id": "54620e87",
   "metadata": {},
   "source": [
    "Head or Tail "
   ]
  },
  {
   "cell_type": "code",
   "execution_count": 13,
   "id": "c8ba1c00",
   "metadata": {},
   "outputs": [
    {
     "name": "stdout",
     "output_type": "stream",
     "text": [
      "Head or Tail Coin Toss Program\n",
      "Head\n",
      "OR\n",
      "Tail\n",
      "\n",
      "\n",
      "\n",
      "\n",
      "Head\n"
     ]
    }
   ],
   "source": [
    "print(\"Head or Tail Coin Toss Program\")\n",
    "print(\"Head\\nOR\\nTail\")\n",
    "print(\"\\n\")\n",
    "print(\"\\n\")\n",
    "randomNumber = random.randint(0,1)\n",
    "\n",
    "if (randomNumber == 0):\n",
    "    print(\"Tail\")\n",
    "else:\n",
    "    print(\"Head\")"
   ]
  },
  {
   "cell_type": "markdown",
   "id": "12bbaaa3",
   "metadata": {},
   "source": [
    "Lists"
   ]
  },
  {
   "cell_type": "code",
   "execution_count": 17,
   "id": "4f70a6c7",
   "metadata": {},
   "outputs": [],
   "source": [
    "# converting a string to a list of strings\n",
    "stringWord = \"Hello World\"\n",
    "stringList = stringWord.split()"
   ]
  },
  {
   "cell_type": "code",
   "execution_count": 19,
   "id": "c7a2e4a3",
   "metadata": {},
   "outputs": [
    {
     "data": {
      "text/plain": [
       "['Hello', 'World']"
      ]
     },
     "execution_count": 19,
     "metadata": {},
     "output_type": "execute_result"
    }
   ],
   "source": [
    "stringList"
   ]
  },
  {
   "cell_type": "code",
   "execution_count": 22,
   "id": "549c1808",
   "metadata": {},
   "outputs": [],
   "source": [
    "# converting a string to list of characters\n",
    "myWord = \"Python\"\n",
    "myWordList = list(myWord)"
   ]
  },
  {
   "cell_type": "code",
   "execution_count": 23,
   "id": "b4afb763",
   "metadata": {},
   "outputs": [
    {
     "data": {
      "text/plain": [
       "['P', 'y', 't', 'h', 'o', 'n']"
      ]
     },
     "execution_count": 23,
     "metadata": {},
     "output_type": "execute_result"
    }
   ],
   "source": [
    "myWordList"
   ]
  },
  {
   "cell_type": "code",
   "execution_count": 38,
   "id": "91ebdc22",
   "metadata": {},
   "outputs": [],
   "source": [
    "# converting a list of string to a list of lists\n",
    "string1 = \"This is python\"\n",
    "# list of stirngs\n",
    "string1List = string1.split()\n",
    "# list of list\n",
    "stringListList = list(map(list,string1List))"
   ]
  },
  {
   "cell_type": "code",
   "execution_count": 39,
   "id": "a28b17c2",
   "metadata": {},
   "outputs": [
    {
     "data": {
      "text/plain": [
       "['This', 'is', 'python']"
      ]
     },
     "execution_count": 39,
     "metadata": {},
     "output_type": "execute_result"
    }
   ],
   "source": [
    "string1List"
   ]
  },
  {
   "cell_type": "code",
   "execution_count": 40,
   "id": "bdf5ddf9",
   "metadata": {},
   "outputs": [
    {
     "data": {
      "text/plain": [
       "[['T', 'h', 'i', 's'], ['i', 's'], ['p', 'y', 't', 'h', 'o', 'n']]"
      ]
     },
     "execution_count": 40,
     "metadata": {},
     "output_type": "execute_result"
    }
   ],
   "source": [
    "stringListList"
   ]
  },
  {
   "cell_type": "code",
   "execution_count": 42,
   "id": "5a1dfa64",
   "metadata": {},
   "outputs": [
    {
     "name": "stdout",
     "output_type": "stream",
     "text": [
      "['abc', 'def', ' ghi']\n"
     ]
    }
   ],
   "source": [
    "# comma seperated values to list\n",
    "string2 = \"abc,def, ghi\"\n",
    "string2List = string2.split(',')\n",
    "print(string2List)"
   ]
  },
  {
   "cell_type": "code",
   "execution_count": 45,
   "id": "c7be5884",
   "metadata": {},
   "outputs": [
    {
     "name": "stdout",
     "output_type": "stream",
     "text": [
      "[0, 1, 2, 3, 4, 5, 6, 7, 8, 9]\n"
     ]
    }
   ],
   "source": [
    "# converting string of integers to list of integers\n",
    "intString = \"0 1 2 3 4 5 6 7 8 9\"\n",
    "intStringList1 = list(map(int,list(intString.split())))\n",
    "print(intStringList1)"
   ]
  }
 ],
 "metadata": {
  "kernelspec": {
   "display_name": "Python 3 (ipykernel)",
   "language": "python",
   "name": "python3"
  },
  "language_info": {
   "codemirror_mode": {
    "name": "ipython",
    "version": 3
   },
   "file_extension": ".py",
   "mimetype": "text/x-python",
   "name": "python",
   "nbconvert_exporter": "python",
   "pygments_lexer": "ipython3",
   "version": "3.9.15"
  }
 },
 "nbformat": 4,
 "nbformat_minor": 5
}
