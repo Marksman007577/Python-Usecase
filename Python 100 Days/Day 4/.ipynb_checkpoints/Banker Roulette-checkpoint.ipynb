{
 "cells": [
  {
   "cell_type": "code",
   "execution_count": 5,
   "id": "6d1756ea",
   "metadata": {},
   "outputs": [
    {
     "name": "stdout",
     "output_type": "stream",
     "text": [
      "Banker Roulette\n",
      "Enter everyone's name:james bola jegede ifeanyi\n"
     ]
    }
   ],
   "source": [
    "import random\n",
    "\n",
    "print(\"Banker Roulette\")\n",
    "allNames = input(\"Enter everyone's name:\").title().split()\n",
    "totalNames = len(allNames)"
   ]
  },
  {
   "cell_type": "code",
   "execution_count": 6,
   "id": "178c6259",
   "metadata": {},
   "outputs": [
    {
     "data": {
      "text/plain": [
       "['James', 'Bola', 'Jegede', 'Ifeanyi']"
      ]
     },
     "execution_count": 6,
     "metadata": {},
     "output_type": "execute_result"
    }
   ],
   "source": [
    "allNames"
   ]
  },
  {
   "cell_type": "markdown",
   "id": "bf96deac",
   "metadata": {},
   "source": []
  },
  {
   "cell_type": "code",
   "execution_count": null,
   "id": "5a3b8290",
   "metadata": {},
   "outputs": [],
   "source": []
  },
  {
   "cell_type": "code",
   "execution_count": null,
   "id": "b646aa8c",
   "metadata": {
    "collapsed": true
   },
   "outputs": [],
   "source": []
  }
 ],
 "metadata": {
  "kernelspec": {
   "display_name": "Python 3 (ipykernel)",
   "language": "python",
   "name": "python3"
  },
  "language_info": {
   "codemirror_mode": {
    "name": "ipython",
    "version": 3
   },
   "file_extension": ".py",
   "mimetype": "text/x-python",
   "name": "python",
   "nbconvert_exporter": "python",
   "pygments_lexer": "ipython3",
   "version": "3.9.15"
  }
 },
 "nbformat": 4,
 "nbformat_minor": 5
}
