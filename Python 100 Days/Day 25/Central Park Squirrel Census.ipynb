{
 "cells": [
  {
   "cell_type": "code",
   "execution_count": 29,
   "id": "initial_id",
   "metadata": {
    "collapsed": true,
    "ExecuteTime": {
     "end_time": "2023-11-11T18:32:37.714457200Z",
     "start_time": "2023-11-11T18:32:37.678692800Z"
    }
   },
   "outputs": [],
   "source": [
    "import numpy as np\n",
    "import pandas as pd\n",
    "import matplotlib.pyplot as plt\n",
    "import seaborn as sns"
   ]
  },
  {
   "cell_type": "code",
   "execution_count": 30,
   "outputs": [],
   "source": [
    "df = pd.read_csv('2018_Central_Park_Squirrel_Census.csv')"
   ],
   "metadata": {
    "collapsed": false,
    "ExecuteTime": {
     "end_time": "2023-11-11T18:32:38.552651100Z",
     "start_time": "2023-11-11T18:32:38.506132800Z"
    }
   },
   "id": "33dcb25cab39507f"
  },
  {
   "cell_type": "code",
   "execution_count": 31,
   "outputs": [
    {
     "data": {
      "text/plain": "              X          Y Unique Squirrel ID Hectare Shift      Date  \\\n0    -73.956134  40.794082     37F-PM-1014-03     37F    PM  10142018   \n1    -73.957044  40.794851     37E-PM-1006-03     37E    PM  10062018   \n2    -73.976831  40.766718      2E-AM-1010-03     02E    AM  10102018   \n3    -73.975725  40.769703      5D-PM-1018-05     05D    PM  10182018   \n4    -73.959313  40.797533     39B-AM-1018-01     39B    AM  10182018   \n...         ...        ...                ...     ...   ...       ...   \n3018 -73.963943  40.790868     30B-AM-1007-04     30B    AM  10072018   \n3019 -73.970402  40.782560     19A-PM-1013-05     19A    PM  10132018   \n3020 -73.966587  40.783678     22D-PM-1012-07     22D    PM  10122018   \n3021 -73.963994  40.789915     29B-PM-1010-02     29B    PM  10102018   \n3022 -73.975479  40.769640      5E-PM-1012-01     05E    PM  10122018   \n\n      Hectare Squirrel Number       Age Primary Fur Color  \\\n0                           3       NaN               NaN   \n1                           3     Adult              Gray   \n2                           3     Adult          Cinnamon   \n3                           5  Juvenile              Gray   \n4                           1       NaN               NaN   \n...                       ...       ...               ...   \n3018                        4     Adult              Gray   \n3019                        5     Adult              Gray   \n3020                        7     Adult              Gray   \n3021                        2       NaN              Gray   \n3022                        1     Adult          Cinnamon   \n\n         Highlight Fur Color  ...   Kuks  Quaas  Moans Tail flags  \\\n0                        NaN  ...  False  False  False      False   \n1                   Cinnamon  ...  False  False  False      False   \n2                        NaN  ...  False  False  False      False   \n3                        NaN  ...  False  False  False      False   \n4                        NaN  ...   True  False  False      False   \n...                      ...  ...    ...    ...    ...        ...   \n3018                     NaN  ...  False  False  False      False   \n3019                   White  ...  False  False  False      False   \n3020  Black, Cinnamon, White  ...  False  False  False      False   \n3021         Cinnamon, White  ...  False  False  False      False   \n3022             Gray, White  ...  False  False  False      False   \n\n     Tail twitches  Approaches  Indifferent  Runs from  Other Interactions  \\\n0            False       False        False      False                 NaN   \n1            False       False        False       True                  me   \n2            False       False         True      False                 NaN   \n3            False       False        False       True                 NaN   \n4            False       False        False      False                 NaN   \n...            ...         ...          ...        ...                 ...   \n3018         False       False        False       True                 NaN   \n3019         False       False         True      False                 NaN   \n3020         False       False         True      False                 NaN   \n3021         False       False         True      False                 NaN   \n3022         False        True        False      False                 NaN   \n\n                                          Lat/Long  \n0       POINT (-73.9561344937861 40.7940823884086)  \n1     POINT (-73.9570437717691 40.794850940803904)  \n2      POINT (-73.9768311751004 40.76671780725581)  \n3       POINT (-73.9757249834141 40.7697032606755)  \n4        POINT (-73.9593126695714 40.797533370163)  \n...                                            ...  \n3018    POINT (-73.9639431360458 40.7908677445466)  \n3019    POINT (-73.9704015859639 40.7825600069973)  \n3020    POINT (-73.9665871993517 40.7836775064883)  \n3021    POINT (-73.9639941227864 40.7899152327912)  \n3022    POINT (-73.9754794191553 40.7696404489025)  \n\n[3023 rows x 31 columns]",
      "text/html": "<div>\n<style scoped>\n    .dataframe tbody tr th:only-of-type {\n        vertical-align: middle;\n    }\n\n    .dataframe tbody tr th {\n        vertical-align: top;\n    }\n\n    .dataframe thead th {\n        text-align: right;\n    }\n</style>\n<table border=\"1\" class=\"dataframe\">\n  <thead>\n    <tr style=\"text-align: right;\">\n      <th></th>\n      <th>X</th>\n      <th>Y</th>\n      <th>Unique Squirrel ID</th>\n      <th>Hectare</th>\n      <th>Shift</th>\n      <th>Date</th>\n      <th>Hectare Squirrel Number</th>\n      <th>Age</th>\n      <th>Primary Fur Color</th>\n      <th>Highlight Fur Color</th>\n      <th>...</th>\n      <th>Kuks</th>\n      <th>Quaas</th>\n      <th>Moans</th>\n      <th>Tail flags</th>\n      <th>Tail twitches</th>\n      <th>Approaches</th>\n      <th>Indifferent</th>\n      <th>Runs from</th>\n      <th>Other Interactions</th>\n      <th>Lat/Long</th>\n    </tr>\n  </thead>\n  <tbody>\n    <tr>\n      <th>0</th>\n      <td>-73.956134</td>\n      <td>40.794082</td>\n      <td>37F-PM-1014-03</td>\n      <td>37F</td>\n      <td>PM</td>\n      <td>10142018</td>\n      <td>3</td>\n      <td>NaN</td>\n      <td>NaN</td>\n      <td>NaN</td>\n      <td>...</td>\n      <td>False</td>\n      <td>False</td>\n      <td>False</td>\n      <td>False</td>\n      <td>False</td>\n      <td>False</td>\n      <td>False</td>\n      <td>False</td>\n      <td>NaN</td>\n      <td>POINT (-73.9561344937861 40.7940823884086)</td>\n    </tr>\n    <tr>\n      <th>1</th>\n      <td>-73.957044</td>\n      <td>40.794851</td>\n      <td>37E-PM-1006-03</td>\n      <td>37E</td>\n      <td>PM</td>\n      <td>10062018</td>\n      <td>3</td>\n      <td>Adult</td>\n      <td>Gray</td>\n      <td>Cinnamon</td>\n      <td>...</td>\n      <td>False</td>\n      <td>False</td>\n      <td>False</td>\n      <td>False</td>\n      <td>False</td>\n      <td>False</td>\n      <td>False</td>\n      <td>True</td>\n      <td>me</td>\n      <td>POINT (-73.9570437717691 40.794850940803904)</td>\n    </tr>\n    <tr>\n      <th>2</th>\n      <td>-73.976831</td>\n      <td>40.766718</td>\n      <td>2E-AM-1010-03</td>\n      <td>02E</td>\n      <td>AM</td>\n      <td>10102018</td>\n      <td>3</td>\n      <td>Adult</td>\n      <td>Cinnamon</td>\n      <td>NaN</td>\n      <td>...</td>\n      <td>False</td>\n      <td>False</td>\n      <td>False</td>\n      <td>False</td>\n      <td>False</td>\n      <td>False</td>\n      <td>True</td>\n      <td>False</td>\n      <td>NaN</td>\n      <td>POINT (-73.9768311751004 40.76671780725581)</td>\n    </tr>\n    <tr>\n      <th>3</th>\n      <td>-73.975725</td>\n      <td>40.769703</td>\n      <td>5D-PM-1018-05</td>\n      <td>05D</td>\n      <td>PM</td>\n      <td>10182018</td>\n      <td>5</td>\n      <td>Juvenile</td>\n      <td>Gray</td>\n      <td>NaN</td>\n      <td>...</td>\n      <td>False</td>\n      <td>False</td>\n      <td>False</td>\n      <td>False</td>\n      <td>False</td>\n      <td>False</td>\n      <td>False</td>\n      <td>True</td>\n      <td>NaN</td>\n      <td>POINT (-73.9757249834141 40.7697032606755)</td>\n    </tr>\n    <tr>\n      <th>4</th>\n      <td>-73.959313</td>\n      <td>40.797533</td>\n      <td>39B-AM-1018-01</td>\n      <td>39B</td>\n      <td>AM</td>\n      <td>10182018</td>\n      <td>1</td>\n      <td>NaN</td>\n      <td>NaN</td>\n      <td>NaN</td>\n      <td>...</td>\n      <td>True</td>\n      <td>False</td>\n      <td>False</td>\n      <td>False</td>\n      <td>False</td>\n      <td>False</td>\n      <td>False</td>\n      <td>False</td>\n      <td>NaN</td>\n      <td>POINT (-73.9593126695714 40.797533370163)</td>\n    </tr>\n    <tr>\n      <th>...</th>\n      <td>...</td>\n      <td>...</td>\n      <td>...</td>\n      <td>...</td>\n      <td>...</td>\n      <td>...</td>\n      <td>...</td>\n      <td>...</td>\n      <td>...</td>\n      <td>...</td>\n      <td>...</td>\n      <td>...</td>\n      <td>...</td>\n      <td>...</td>\n      <td>...</td>\n      <td>...</td>\n      <td>...</td>\n      <td>...</td>\n      <td>...</td>\n      <td>...</td>\n      <td>...</td>\n    </tr>\n    <tr>\n      <th>3018</th>\n      <td>-73.963943</td>\n      <td>40.790868</td>\n      <td>30B-AM-1007-04</td>\n      <td>30B</td>\n      <td>AM</td>\n      <td>10072018</td>\n      <td>4</td>\n      <td>Adult</td>\n      <td>Gray</td>\n      <td>NaN</td>\n      <td>...</td>\n      <td>False</td>\n      <td>False</td>\n      <td>False</td>\n      <td>False</td>\n      <td>False</td>\n      <td>False</td>\n      <td>False</td>\n      <td>True</td>\n      <td>NaN</td>\n      <td>POINT (-73.9639431360458 40.7908677445466)</td>\n    </tr>\n    <tr>\n      <th>3019</th>\n      <td>-73.970402</td>\n      <td>40.782560</td>\n      <td>19A-PM-1013-05</td>\n      <td>19A</td>\n      <td>PM</td>\n      <td>10132018</td>\n      <td>5</td>\n      <td>Adult</td>\n      <td>Gray</td>\n      <td>White</td>\n      <td>...</td>\n      <td>False</td>\n      <td>False</td>\n      <td>False</td>\n      <td>False</td>\n      <td>False</td>\n      <td>False</td>\n      <td>True</td>\n      <td>False</td>\n      <td>NaN</td>\n      <td>POINT (-73.9704015859639 40.7825600069973)</td>\n    </tr>\n    <tr>\n      <th>3020</th>\n      <td>-73.966587</td>\n      <td>40.783678</td>\n      <td>22D-PM-1012-07</td>\n      <td>22D</td>\n      <td>PM</td>\n      <td>10122018</td>\n      <td>7</td>\n      <td>Adult</td>\n      <td>Gray</td>\n      <td>Black, Cinnamon, White</td>\n      <td>...</td>\n      <td>False</td>\n      <td>False</td>\n      <td>False</td>\n      <td>False</td>\n      <td>False</td>\n      <td>False</td>\n      <td>True</td>\n      <td>False</td>\n      <td>NaN</td>\n      <td>POINT (-73.9665871993517 40.7836775064883)</td>\n    </tr>\n    <tr>\n      <th>3021</th>\n      <td>-73.963994</td>\n      <td>40.789915</td>\n      <td>29B-PM-1010-02</td>\n      <td>29B</td>\n      <td>PM</td>\n      <td>10102018</td>\n      <td>2</td>\n      <td>NaN</td>\n      <td>Gray</td>\n      <td>Cinnamon, White</td>\n      <td>...</td>\n      <td>False</td>\n      <td>False</td>\n      <td>False</td>\n      <td>False</td>\n      <td>False</td>\n      <td>False</td>\n      <td>True</td>\n      <td>False</td>\n      <td>NaN</td>\n      <td>POINT (-73.9639941227864 40.7899152327912)</td>\n    </tr>\n    <tr>\n      <th>3022</th>\n      <td>-73.975479</td>\n      <td>40.769640</td>\n      <td>5E-PM-1012-01</td>\n      <td>05E</td>\n      <td>PM</td>\n      <td>10122018</td>\n      <td>1</td>\n      <td>Adult</td>\n      <td>Cinnamon</td>\n      <td>Gray, White</td>\n      <td>...</td>\n      <td>False</td>\n      <td>False</td>\n      <td>False</td>\n      <td>False</td>\n      <td>False</td>\n      <td>True</td>\n      <td>False</td>\n      <td>False</td>\n      <td>NaN</td>\n      <td>POINT (-73.9754794191553 40.7696404489025)</td>\n    </tr>\n  </tbody>\n</table>\n<p>3023 rows × 31 columns</p>\n</div>"
     },
     "execution_count": 31,
     "metadata": {},
     "output_type": "execute_result"
    }
   ],
   "source": [
    "df"
   ],
   "metadata": {
    "collapsed": false,
    "ExecuteTime": {
     "end_time": "2023-11-11T18:32:39.281107900Z",
     "start_time": "2023-11-11T18:32:39.194434400Z"
    }
   },
   "id": "e863de485c264b5d"
  },
  {
   "cell_type": "code",
   "execution_count": 32,
   "outputs": [],
   "source": [
    "squirrel_color = df['Primary Fur Color']"
   ],
   "metadata": {
    "collapsed": false,
    "ExecuteTime": {
     "end_time": "2023-11-11T18:32:41.159730900Z",
     "start_time": "2023-11-11T18:32:41.112883100Z"
    }
   },
   "id": "7a88ed93716e6460"
  },
  {
   "cell_type": "code",
   "execution_count": 33,
   "outputs": [
    {
     "data": {
      "text/plain": "0            NaN\n1           Gray\n2       Cinnamon\n3           Gray\n4            NaN\n          ...   \n3018        Gray\n3019        Gray\n3020        Gray\n3021        Gray\n3022    Cinnamon\nName: Primary Fur Color, Length: 3023, dtype: object"
     },
     "execution_count": 33,
     "metadata": {},
     "output_type": "execute_result"
    }
   ],
   "source": [
    "squirrel_color"
   ],
   "metadata": {
    "collapsed": false,
    "ExecuteTime": {
     "end_time": "2023-11-11T18:32:46.795485600Z",
     "start_time": "2023-11-11T18:32:46.744781200Z"
    }
   },
   "id": "fc791ebd6fb246dd"
  },
  {
   "cell_type": "code",
   "execution_count": 34,
   "outputs": [],
   "source": [
    "squirrel_color = squirrel_color.dropna(how='all')"
   ],
   "metadata": {
    "collapsed": false,
    "ExecuteTime": {
     "end_time": "2023-11-11T18:32:49.319307900Z",
     "start_time": "2023-11-11T18:32:49.276296200Z"
    }
   },
   "id": "2a4765e72aee8787"
  },
  {
   "cell_type": "code",
   "execution_count": 35,
   "outputs": [
    {
     "data": {
      "text/plain": "1           Gray\n2       Cinnamon\n3           Gray\n5           Gray\n6           Gray\n          ...   \n3018        Gray\n3019        Gray\n3020        Gray\n3021        Gray\n3022    Cinnamon\nName: Primary Fur Color, Length: 2968, dtype: object"
     },
     "execution_count": 35,
     "metadata": {},
     "output_type": "execute_result"
    }
   ],
   "source": [
    "squirrel_color"
   ],
   "metadata": {
    "collapsed": false,
    "ExecuteTime": {
     "end_time": "2023-11-11T18:33:16.790559600Z",
     "start_time": "2023-11-11T18:33:16.747749400Z"
    }
   },
   "id": "2e25ff960c5710b9"
  },
  {
   "cell_type": "code",
   "execution_count": 36,
   "outputs": [],
   "source": [
    "fur_color_dict = {}"
   ],
   "metadata": {
    "collapsed": false,
    "ExecuteTime": {
     "end_time": "2023-11-11T18:33:46.182879600Z",
     "start_time": "2023-11-11T18:33:46.156951300Z"
    }
   },
   "id": "abcdbe7724207fbd"
  },
  {
   "cell_type": "code",
   "execution_count": 37,
   "outputs": [],
   "source": [
    "for color in squirrel_color:\n",
    "    fur_color_dict.setdefault(color, 0)\n",
    "    fur_color_dict[color] += 1"
   ],
   "metadata": {
    "collapsed": false,
    "ExecuteTime": {
     "end_time": "2023-11-11T18:33:47.570353800Z",
     "start_time": "2023-11-11T18:33:47.550008700Z"
    }
   },
   "id": "caa9f0cbcb81e5a1"
  },
  {
   "cell_type": "code",
   "execution_count": 38,
   "outputs": [],
   "source": [
    "header = ['Fur Color','Count']"
   ],
   "metadata": {
    "collapsed": false,
    "ExecuteTime": {
     "end_time": "2023-11-11T18:33:48.559576900Z",
     "start_time": "2023-11-11T18:33:48.537088300Z"
    }
   },
   "id": "91e77819f24770ff"
  },
  {
   "cell_type": "code",
   "execution_count": 39,
   "outputs": [
    {
     "data": {
      "text/plain": "{'Gray': 2473, 'Cinnamon': 392, 'Black': 103}"
     },
     "execution_count": 39,
     "metadata": {},
     "output_type": "execute_result"
    }
   ],
   "source": [
    "fur_color_dict"
   ],
   "metadata": {
    "collapsed": false,
    "ExecuteTime": {
     "end_time": "2023-11-11T18:33:49.965463600Z",
     "start_time": "2023-11-11T18:33:49.940221300Z"
    }
   },
   "id": "e2edd522d780f86d"
  },
  {
   "cell_type": "code",
   "execution_count": 40,
   "outputs": [],
   "source": [
    "fur_color_df = pd.DataFrame(fur_color_dict.items(), columns=header).sort_values(ascending=False, by='Count')"
   ],
   "metadata": {
    "collapsed": false,
    "ExecuteTime": {
     "end_time": "2023-11-11T18:35:33.288012600Z",
     "start_time": "2023-11-11T18:35:33.260370900Z"
    }
   },
   "id": "fe676aaf21e73013"
  },
  {
   "cell_type": "code",
   "execution_count": 41,
   "outputs": [
    {
     "data": {
      "text/plain": "  Fur Color  Count\n0      Gray   2473\n1  Cinnamon    392\n2     Black    103",
      "text/html": "<div>\n<style scoped>\n    .dataframe tbody tr th:only-of-type {\n        vertical-align: middle;\n    }\n\n    .dataframe tbody tr th {\n        vertical-align: top;\n    }\n\n    .dataframe thead th {\n        text-align: right;\n    }\n</style>\n<table border=\"1\" class=\"dataframe\">\n  <thead>\n    <tr style=\"text-align: right;\">\n      <th></th>\n      <th>Fur Color</th>\n      <th>Count</th>\n    </tr>\n  </thead>\n  <tbody>\n    <tr>\n      <th>0</th>\n      <td>Gray</td>\n      <td>2473</td>\n    </tr>\n    <tr>\n      <th>1</th>\n      <td>Cinnamon</td>\n      <td>392</td>\n    </tr>\n    <tr>\n      <th>2</th>\n      <td>Black</td>\n      <td>103</td>\n    </tr>\n  </tbody>\n</table>\n</div>"
     },
     "execution_count": 41,
     "metadata": {},
     "output_type": "execute_result"
    }
   ],
   "source": [
    "fur_color_df"
   ],
   "metadata": {
    "collapsed": false,
    "ExecuteTime": {
     "end_time": "2023-11-11T18:35:35.014219Z",
     "start_time": "2023-11-11T18:35:34.993196Z"
    }
   },
   "id": "c6d213c3fdb96801"
  },
  {
   "cell_type": "code",
   "execution_count": 42,
   "outputs": [],
   "source": [
    "fur_color_df.to_csv('squirrel_count.csv', sep=',', index=True, encoding='utf-8')"
   ],
   "metadata": {
    "collapsed": false,
    "ExecuteTime": {
     "end_time": "2023-11-11T18:35:51.223653900Z",
     "start_time": "2023-11-11T18:35:51.189186200Z"
    }
   },
   "id": "ccb9273160b300a"
  },
  {
   "cell_type": "code",
   "execution_count": null,
   "outputs": [],
   "source": [],
   "metadata": {
    "collapsed": false
   },
   "id": "802a1014638b8efd"
  }
 ],
 "metadata": {
  "kernelspec": {
   "display_name": "Python 3",
   "language": "python",
   "name": "python3"
  },
  "language_info": {
   "codemirror_mode": {
    "name": "ipython",
    "version": 2
   },
   "file_extension": ".py",
   "mimetype": "text/x-python",
   "name": "python",
   "nbconvert_exporter": "python",
   "pygments_lexer": "ipython2",
   "version": "2.7.6"
  }
 },
 "nbformat": 4,
 "nbformat_minor": 5
}
